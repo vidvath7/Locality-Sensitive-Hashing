{
 "cells": [
  {
   "cell_type": "markdown",
   "id": "befc9b96",
   "metadata": {},
   "source": [
    "### Importing the libraries\n"
   ]
  },
  {
   "cell_type": "code",
   "execution_count": 52,
   "id": "3fd00fda",
   "metadata": {},
   "outputs": [],
   "source": [
    "import numpy as np\n",
    "import pandas as pd\n",
    "from collections import Counter\n",
    "from sklearn.feature_extraction.text import TfidfVectorizer"
   ]
  },
  {
   "cell_type": "markdown",
   "id": "7ccf2f41",
   "metadata": {},
   "source": [
    "### Loading the Train dataset\n"
   ]
  },
  {
   "cell_type": "code",
   "execution_count": 53,
   "id": "179881de",
   "metadata": {},
   "outputs": [],
   "source": [
    "train_data=pd.read_excel('train.xlsx')"
   ]
  },
  {
   "cell_type": "code",
   "execution_count": 54,
   "id": "2fb8ea40",
   "metadata": {},
   "outputs": [
    {
     "data": {
      "text/html": [
       "<div>\n",
       "<style scoped>\n",
       "    .dataframe tbody tr th:only-of-type {\n",
       "        vertical-align: middle;\n",
       "    }\n",
       "\n",
       "    .dataframe tbody tr th {\n",
       "        vertical-align: top;\n",
       "    }\n",
       "\n",
       "    .dataframe thead th {\n",
       "        text-align: right;\n",
       "    }\n",
       "</style>\n",
       "<table border=\"1\" class=\"dataframe\">\n",
       "  <thead>\n",
       "    <tr style=\"text-align: right;\">\n",
       "      <th></th>\n",
       "      <th>category</th>\n",
       "      <th>text</th>\n",
       "    </tr>\n",
       "  </thead>\n",
       "  <tbody>\n",
       "    <tr>\n",
       "      <th>0</th>\n",
       "      <td>tech</td>\n",
       "      <td>tv future in the hands of viewers with home th...</td>\n",
       "    </tr>\n",
       "    <tr>\n",
       "      <th>1</th>\n",
       "      <td>business</td>\n",
       "      <td>worldcom boss  left books alone  former worldc...</td>\n",
       "    </tr>\n",
       "    <tr>\n",
       "      <th>2</th>\n",
       "      <td>sport</td>\n",
       "      <td>tigers wary of farrell  gamble  leicester say ...</td>\n",
       "    </tr>\n",
       "    <tr>\n",
       "      <th>3</th>\n",
       "      <td>sport</td>\n",
       "      <td>yeading face newcastle in fa cup premiership s...</td>\n",
       "    </tr>\n",
       "    <tr>\n",
       "      <th>4</th>\n",
       "      <td>entertainment</td>\n",
       "      <td>ocean s twelve raids box office ocean s twelve...</td>\n",
       "    </tr>\n",
       "    <tr>\n",
       "      <th>...</th>\n",
       "      <td>...</td>\n",
       "      <td>...</td>\n",
       "    </tr>\n",
       "    <tr>\n",
       "      <th>2210</th>\n",
       "      <td>politics</td>\n",
       "      <td>teens  know little  of politics teenagers ques...</td>\n",
       "    </tr>\n",
       "    <tr>\n",
       "      <th>2211</th>\n",
       "      <td>entertainment</td>\n",
       "      <td>lopez misses uk charity premiere jennifer lope...</td>\n",
       "    </tr>\n",
       "    <tr>\n",
       "      <th>2212</th>\n",
       "      <td>business</td>\n",
       "      <td>christmas shoppers flock to tills shops all ov...</td>\n",
       "    </tr>\n",
       "    <tr>\n",
       "      <th>2213</th>\n",
       "      <td>tech</td>\n",
       "      <td>progress on new internet domains by early 2005...</td>\n",
       "    </tr>\n",
       "    <tr>\n",
       "      <th>2214</th>\n",
       "      <td>business</td>\n",
       "      <td>bush budget seeks deep cutbacks president bush...</td>\n",
       "    </tr>\n",
       "  </tbody>\n",
       "</table>\n",
       "<p>2215 rows × 2 columns</p>\n",
       "</div>"
      ],
      "text/plain": [
       "           category                                               text\n",
       "0              tech  tv future in the hands of viewers with home th...\n",
       "1          business  worldcom boss  left books alone  former worldc...\n",
       "2             sport  tigers wary of farrell  gamble  leicester say ...\n",
       "3             sport  yeading face newcastle in fa cup premiership s...\n",
       "4     entertainment  ocean s twelve raids box office ocean s twelve...\n",
       "...             ...                                                ...\n",
       "2210       politics  teens  know little  of politics teenagers ques...\n",
       "2211  entertainment  lopez misses uk charity premiere jennifer lope...\n",
       "2212       business  christmas shoppers flock to tills shops all ov...\n",
       "2213           tech  progress on new internet domains by early 2005...\n",
       "2214       business  bush budget seeks deep cutbacks president bush...\n",
       "\n",
       "[2215 rows x 2 columns]"
      ]
     },
     "execution_count": 54,
     "metadata": {},
     "output_type": "execute_result"
    }
   ],
   "source": [
    "train_data"
   ]
  },
  {
   "cell_type": "code",
   "execution_count": 55,
   "id": "fbaa5e45",
   "metadata": {},
   "outputs": [
    {
     "data": {
      "text/plain": [
       "category\n",
       "sport            509\n",
       "business         508\n",
       "politics         415\n",
       "tech             399\n",
       "entertainment    384\n",
       "Name: count, dtype: int64"
      ]
     },
     "execution_count": 55,
     "metadata": {},
     "output_type": "execute_result"
    }
   ],
   "source": [
    "train_data['category'].value_counts()"
   ]
  },
  {
   "cell_type": "markdown",
   "id": "34f8df39",
   "metadata": {},
   "source": [
    "### Loading the Test dataset\n"
   ]
  },
  {
   "cell_type": "code",
   "execution_count": 56,
   "id": "2c377e09",
   "metadata": {},
   "outputs": [],
   "source": [
    "test_data=pd.read_excel('test.xlsx')"
   ]
  },
  {
   "cell_type": "code",
   "execution_count": 57,
   "id": "23a1443d",
   "metadata": {},
   "outputs": [
    {
     "data": {
      "text/html": [
       "<div>\n",
       "<style scoped>\n",
       "    .dataframe tbody tr th:only-of-type {\n",
       "        vertical-align: middle;\n",
       "    }\n",
       "\n",
       "    .dataframe tbody tr th {\n",
       "        vertical-align: top;\n",
       "    }\n",
       "\n",
       "    .dataframe thead th {\n",
       "        text-align: right;\n",
       "    }\n",
       "</style>\n",
       "<table border=\"1\" class=\"dataframe\">\n",
       "  <thead>\n",
       "    <tr style=\"text-align: right;\">\n",
       "      <th></th>\n",
       "      <th>category</th>\n",
       "      <th>text</th>\n",
       "    </tr>\n",
       "  </thead>\n",
       "  <tbody>\n",
       "    <tr>\n",
       "      <th>0</th>\n",
       "      <td>NaN</td>\n",
       "      <td>junk e-mails on relentless rise spam traffic i...</td>\n",
       "    </tr>\n",
       "    <tr>\n",
       "      <th>1</th>\n",
       "      <td>NaN</td>\n",
       "      <td>top stars join us tsunami tv show brad pitt  r...</td>\n",
       "    </tr>\n",
       "    <tr>\n",
       "      <th>2</th>\n",
       "      <td>NaN</td>\n",
       "      <td>rings of steel combat net attacks gambling is ...</td>\n",
       "    </tr>\n",
       "    <tr>\n",
       "      <th>3</th>\n",
       "      <td>NaN</td>\n",
       "      <td>davies favours gloucester future wales hooker ...</td>\n",
       "    </tr>\n",
       "    <tr>\n",
       "      <th>4</th>\n",
       "      <td>NaN</td>\n",
       "      <td>beijingers fume over parking fees choking traf...</td>\n",
       "    </tr>\n",
       "    <tr>\n",
       "      <th>5</th>\n",
       "      <td>NaN</td>\n",
       "      <td>cars pull down us retail figures us retail sal...</td>\n",
       "    </tr>\n",
       "    <tr>\n",
       "      <th>6</th>\n",
       "      <td>NaN</td>\n",
       "      <td>kilroy unveils immigration policy ex-chatshow ...</td>\n",
       "    </tr>\n",
       "    <tr>\n",
       "      <th>7</th>\n",
       "      <td>NaN</td>\n",
       "      <td>rem announce new glasgow concert us band rem h...</td>\n",
       "    </tr>\n",
       "    <tr>\n",
       "      <th>8</th>\n",
       "      <td>NaN</td>\n",
       "      <td>how political squabbles snowball it s become c...</td>\n",
       "    </tr>\n",
       "    <tr>\n",
       "      <th>9</th>\n",
       "      <td>NaN</td>\n",
       "      <td>souness delight at euro progress boss graeme s...</td>\n",
       "    </tr>\n",
       "  </tbody>\n",
       "</table>\n",
       "</div>"
      ],
      "text/plain": [
       "   category                                               text\n",
       "0       NaN  junk e-mails on relentless rise spam traffic i...\n",
       "1       NaN  top stars join us tsunami tv show brad pitt  r...\n",
       "2       NaN  rings of steel combat net attacks gambling is ...\n",
       "3       NaN  davies favours gloucester future wales hooker ...\n",
       "4       NaN  beijingers fume over parking fees choking traf...\n",
       "5       NaN  cars pull down us retail figures us retail sal...\n",
       "6       NaN  kilroy unveils immigration policy ex-chatshow ...\n",
       "7       NaN  rem announce new glasgow concert us band rem h...\n",
       "8       NaN  how political squabbles snowball it s become c...\n",
       "9       NaN  souness delight at euro progress boss graeme s..."
      ]
     },
     "execution_count": 57,
     "metadata": {},
     "output_type": "execute_result"
    }
   ],
   "source": [
    "test_data"
   ]
  },
  {
   "cell_type": "markdown",
   "id": "f8c8a57c",
   "metadata": {},
   "source": [
    "### Generating the Hash Tables from the train data"
   ]
  },
  {
   "cell_type": "code",
   "execution_count": 58,
   "id": "10c10678",
   "metadata": {},
   "outputs": [],
   "source": [
    "# presetting the attributes\n",
    "np.random.seed(0)\n",
    "min_df = 10\n",
    "max_features = 4000\n",
    "ngram_range = (2, 3)\n",
    "\n",
    "# converting the text to vector using TFIDF vectorizer\n",
    "text = train_data['text']\n",
    "tfidf = TfidfVectorizer(ngram_range=ngram_range,\n",
    "                        max_features=max_features,\n",
    "                        min_df=min_df)\n",
    "text_vector = tfidf.fit_transform(text)\n",
    "text_vec = text_vector.toarray()\n",
    "\n",
    "# creating a dictionary to store index of the vector and the corresponding category\n",
    "category_dict = {}\n",
    "for i in range(0, text_vec.shape[0]):\n",
    "    category_dict.update({i: train_data['category'][i]})\n",
    "\n",
    "# creating hyperplanes\n",
    "m = 5\n",
    "hyp = []\n",
    "for i in range(m):\n",
    "    hyp.append([])\n",
    "    for j in range(0, max_features):\n",
    "        weights = np.random.normal(loc=0, scale=1)\n",
    "        hyp[i].append(weights)\n",
    "hyp_arr = np.array(hyp)\n",
    "#print(\"weights of hyperplanes:\", hyp_arr)\n",
    "\n",
    "# creating a dictionary(hash table) to store hash keys and hash values\n",
    "hash_table = {}\n",
    "for i in range(0, text_vec.shape[0]):\n",
    "    hash_values = np.dot(hyp_arr, text_vec[i])\n",
    "    hash_key_list = hash_values.tolist()\n",
    "    hash_key = tuple([1 if i > 0 else -1 for i in hash_key_list])\n",
    "\n",
    "    if hash_key in hash_table:\n",
    "        hash_table[hash_key].append(i)\n",
    "\n",
    "    if hash_key not in hash_table:\n",
    "        lst = []\n",
    "        lst.append(i)\n",
    "        hash_table.update({hash_key: lst})\n",
    "\n",
    "#print(\"hash table:\", hash_table)"
   ]
  },
  {
   "cell_type": "markdown",
   "id": "5c9019d7",
   "metadata": {},
   "source": [
    "### Predicting the category labels for the test dataset\n"
   ]
  },
  {
   "cell_type": "code",
   "execution_count": 61,
   "id": "555f561a",
   "metadata": {},
   "outputs": [],
   "source": [
    "def predictLabels(test_data):\n",
    "    # loading and converting test data to make queries\n",
    "    query_text = test_data['text']\n",
    "    query_vector = tfidf.transform(query_text)\n",
    "    query_vec = query_vector.toarray()\n",
    "\n",
    "    # creating a list to store predictions of each query\n",
    "    predictions = []\n",
    "    for i in range(0, query_vec.shape[0]):\n",
    "        q_hash_value = np.dot(hyp_arr, query_vec[i])\n",
    "        q_hash_key_list = q_hash_value.tolist()\n",
    "        q_hash_key = tuple([1 if i > 0 else -1 for i in q_hash_key_list])\n",
    "        # finding the hash key of the query point from the hash table\n",
    "        for key, values in hash_table.items():\n",
    "            if key == q_hash_key:\n",
    "                indx_vals = values\n",
    "        # extracting the indices and calculating the cosine similarity between the query vector and each text vector belonging to the hash key\n",
    "        cosine = {}\n",
    "        for j in indx_vals:\n",
    "            vector = text_vec[j]\n",
    "            cosine_sim = np.dot(vector, query_vec[i])\n",
    "            cosine.update({j: cosine_sim})\n",
    "\n",
    "        # finding the k-Nearest Neighbours(11-NN)\n",
    "        val_sort = dict(sorted(cosine.items(), key=lambda item: item[1]))\n",
    "        knn = list(val_sort)[::-1][:11]\n",
    "\n",
    "        # extracting the category using the dictionary\n",
    "        categories = []\n",
    "        for k in knn:\n",
    "            category = category_dict[k]\n",
    "            categories.append(category)\n",
    "\n",
    "        # determining the majority category of the nearest neighbours\n",
    "        counts = Counter(categories)\n",
    "        cnt_dict = dict(counts)\n",
    "        key_sort = dict(sorted(cnt_dict.items(), key=lambda item: item[0]))\n",
    "        prediction = max(key_sort, key=key_sort.get)\n",
    "        predictions.append(prediction)\n",
    "    \n",
    "    # For displaying the predictions of the corresponding text queries\n",
    "    for i, row in test_data.iterrows():\n",
    "        print(f\"Text: {row['text']}, Prediction: {predictions[i]}\")\n",
    "\n"
   ]
  },
  {
   "cell_type": "markdown",
   "id": "3dac56ea",
   "metadata": {},
   "source": [
    "### Output"
   ]
  },
  {
   "cell_type": "code",
   "execution_count": 60,
   "id": "9aba303e",
   "metadata": {},
   "outputs": [
    {
     "name": "stdout",
     "output_type": "stream",
     "text": [
      "Text: junk e-mails on relentless rise spam traffic is up by 40%  putting the total amount of e-mail that is junk up to an astonishing 90%.  the figures  from e-mail management firm email systems  will alarm firms attempting to cope with the amount of spam in their in-boxes. while virus traffic has slowed down  denial of service attacks are on the increase according to the firm. virus mail accounts for just over 15% of all e-mail traffic analysis by the firm has found.  it is no longer just multi-nationals that are in danger of so-called denial of service attacks  in which websites are bombarded by requests for information and rendered inaccessible. email systems refers to a small uk-based engineering firm  which received a staggering 12 million e-mails in january. the type of spam currently being sent has subtlety altered in the last few months  according to email systems analysis. half of spam received since christmas has been health-related with gambling and porn also on the increase. scam mails  offering ways to make a quick buck  have declined by 40%.  january is clearly a month when consumers are less motivated to purchase financial products or put money into dubious financial opportunities   said neil hammerton  managing director of email systems.  spammers seem to have adapted their output to reflect this  focussing instead on medically motivated and pornographic offers  presumably intentionally intended to coincide with what is traditionally considered to be the bleakest month in the calendar   he said., Prediction: tech\n",
      "Text: top stars join us tsunami tv show brad pitt  robert de niro and hugh grant have been added to the line-up for a two-hour us tv special to raise money for victims of the asian tsunami.  andy garcia  lucy liu  natalie portman and jay leno are also among the new names for saturday s tsunami aid. they will join a-list singers madonna  sir elton john  nelly and usher plus actors kevin spacey  halle berry and george clooney on the nbc broadcast. viewers will be urged to phone in to make donations throughout the night. norah jones  diana ross  stevie wonder  maroon 5  mary j blige and eric clapton will give musical performances on the show described as  a concert of hope .  catherine zeta jones  michael douglas  bruce willis  uma thurman  matt damon  drew barrymore and tim robbins are among the other movie superstars due to put in an appearance. george clooney recently reacted angrily to a tv host s suggestion that not all funds raised would go towards tsunami relief. fox tv s bill o reilly said he would be  watching to see if the money gets to the tsunami victims  and warned the celebrities taking part  had better be involved all the way down the line . but clooney accused o reilly of creating a fuss for his own personal gain  saying viewers may now be  afraid that their money will do no good .  he urged o reilly to co-present the tv special  adding in a letter:  we re not playing games here  we re trying to save lives. it s as simple as this - you re either with this joint effort or against it.  organisers say all funds will go to the american red cross. the commercial-free benefit show will also be aired by a string of cable broadcasters and clear channel s radio stations across the us. in addition  performances will be available to buy on the internet as downloads from sony s connect music store. a similar tv benefit carried by all four primary us tv networks after the 11 september terror attacks raised more than $150m (Â£80m).    - the bangkok international film festival got under way on thursday in the thai capital in the shadow of the country s 5 300 deaths from the tsunami. the red carpet gala opening night was ditched in favour of a more subdued first night. six different films were shown at six cinemas  with all money from ticket sales going to charity., Prediction: entertainment\n",
      "Text: rings of steel combat net attacks gambling is hugely popular  especially with tech-savvy criminals.  many extortionists are targeting net-based betting firms and threatening to cripple their websites with deluges of data unless a ransom is paid. but now deep defences are being put in place by some of the uk s biggest net firms to stop these attacks. increasing numbers of attacks and the huge amounts of data being used to try to bump a site off the web are prompting firms to adopt the measures.  net firms are realising that it s not just about anti-virus and firewalls   said paul king  chief security architect at cisco.  there are more things that can be done in the network to protect data centres.  mr king said the only way to properly combat these so-called distributed denial-of-service attacks was with intelligent net-based systems. many of the gambling sites suffering ddos attacks are in offshore data and hosting centres  so any large scale data flood could knock out access to many more sites than just the one the criminals were targeting  said mr king. this overspill effect was only likely to grow as attacks grow in size and scale.  malcolm seagrave  security expert at energis  said the most common types of attacks hit sites with 10 megabytes of data over short periods of time. bigger attacks sending down 200 megabytes of traffic or more were rarely seen  he said.  it does feel like they are turning the dial because you see this traffic gradually growing   he said.  so far there have been no attacks involving gigabytes of data  said mr seagrave. however  he added that it was only a matter of time before such large attacks were mounted. maria capella  spokeswoman for net provider pipex  said that when ddos attacks were at their height  customers were getting hit every four to five days. the defences being put in place constantly monitor the streams of data flowing across networks and pluck out the traffic destined for target sites.  it s about understanding what s genuine traffic and keeping attack traffic from going to the site   she said.  we study the profile of their traffic and as soon as we see an anomaly in the profile that s when we start to get the backbone engineering boys to see if we are going to sustain an attack   said ms capella. this traffic can be hard to spot because ddos attacks typically use thousands of computers in many different countries  each participating machine only sends a small part of the entire data flood.  typically these computers have been infected by a virus or worm which reports its success and the net address of compromised machines back to the malicious hacker or hi-tech criminal that set off the virus. hijacked computers are known as zombies or  bots and collections of them are called  bot nets. many spammers rent out  bot nets to help them anonymously send junk mail.  most of the zombies are based outside the country that hosts the target site so getting the attacking pcs shut off can be difficult. often pipex and other net suppliers do get advance notice that an attack is about to happen.  the serious players tend to precede an attack with some kind of ransom e-mail   said ms capella.  we ask  as part of the service we provide  that customers notify us of anything they have in advance that would give us forewarning.  once an attack is spotted dedicated net hardware takes over to remove the attack traffic and ensure that sites stay up. energis took a similar approach  said mr seagrave.  we have technology out there that allows us to detect attacks in minutes rather than let network engineers spend hours pulling the information together   said mr seagrave. also net firms were starting to work more closely together on the problem of ddos attacks and pool information about where they are coming from. information gathered on attacks and where they originated has led to some arrests. he said energis also did its own intelligence work to get in insight into which sites criminal gangs plan to target.  we have people in places where they shouldn t be  monitoring tech sites   he said. sometimes though  he said  spotting the next victim was easy.  you can see them going alphabetically through the list with the gambling sites  trying one after another   said mr seagrave., Prediction: tech\n",
      "Text: davies favours gloucester future wales hooker mefin davies is likely to stay with english side gloucester despite reported interest from the neath-swansea ospreys.  bbc wales understands the ospreys are interested in the 32-year-old  but that he would prefer to stay where he is. davies  one of the stars of saturday s rbs six nations win over england  is only on a year contract at kingsholm. but the hooker has proved his worth to the zurich premiership side and is likely to get a new deal next season. the summer demise of the celtic warriors region left davies in the cold and forced him to take a semi-professional contract with neath rfc. although he got match time with the ospreys at the request of the wales management  he admitted before his move to gloucester that he was angry with the way he was treated.  the wru didn t give me any help off the field  it was very disappointing   davies said at the time.  it was a hard time throughout the summer  then deciding whether to accept an offer from stade francais which would have ended my wales career., Prediction: tech\n",
      "Text: beijingers fume over parking fees choking traffic jams in beijing are prompting officials to look at reorganising car parking charges.  car ownership has risen fast in recent years  and there are now two and a half million cars on the city s roads. the trouble is that the high status of car ownership is matched by expensive fees at indoor car parks  making motorists reluctant to use them. instead roads are being clogged by drivers circling in search of a cheaper outdoor option.  the price differences between indoor and outdoor lots are unreasonable   said wang yan  an official from the beijing municipal commission for development and reform quoted in the state-run china daily newspaper. mr wang  who is in charge of collecting car parking fees  said his team would be looking at adjusting parking prices to close the gap. indoor parking bays can cost up to 250% more than outdoor ones.  sports fans who drive to matches may also find themselves the target of the commission s road rage. it wants them to use public transport  and is considering jacking up the prices of car parks near sports grounds. mr wang said his review team may scrap the relatively cheap hourly fee near such places and impose a higher flat rate during matches. indoor parking may be costly  but it is not always secure. mr wang s team are also going to look into complaints from residents about poor service received in exchange for compulsory monthly fees of up to 400 yuan ($48; Â£26). the beijing authorities decided two years ago that visiting foreign dignitaries  motorcades should not longer get motorcycle outriders as they blocked the traffic. unclogging beijing s increasingly impassable streets is a major concern for the chinese authorities  who are building dozens of new roads to create a showcase modern city ahead of the 2008 olympic games., Prediction: business\n",
      "Text: cars pull down us retail figures us retail sales fell 0.3% in january  the biggest monthly decline since last august  driven down by a heavy fall in car sales.  the 3.3% fall in car sales had been expected  coming after december s 4% rise in car sales  fuelled by generous pre-christmas special offers. excluding the car sector  us retail sales were up 0.6% in january  twice what some analysts had been expecting. us retail spending is expected to rise in 2005  but not as quickly as in 2004.  steve gallagher  us chief economist at sg corporate & investment banking  said january s figures were  decent numbers .   we are not seeing the numbers that we saw in the second half of 2004  but they are still pretty healthy   he added. sales at appliance and electronic stores were down 0.6% in january  while sales at hardware stores dropped by 0.3% and furniture store sales dipped 0.1%. sales at clothing and clothing accessory stores jumped 1.8%  while sales at general merchandise stores  a category that includes department stores  rose by 0.9%. these strong gains were in part put down to consumers spending gift vouchers they had been given for christmas.  sales at restaurants  bars and coffee houses rose by 0.3%  while grocery store sales were up 0.5%. in december  overall retail sales rose by 1.1%. excluding the car sector  sales rose by just 0.3%. parul jain  deputy chief economist at nomura securities international  said consumer spending would continue to rise in 2005  only at a slower rate of growth than in 2004.  consumers continue to retain their strength in the first quarter   he said. van rourke  a bond strategist at popular securities  agreed that the latest retail sales figures were  slightly stronger than expected ., Prediction: business\n",
      "Text: kilroy unveils immigration policy ex-chatshow host robert kilroy-silk has attacked uk policy on immigration saying britain s open door approach is hitting low wage  indigenous  workers.  the veritas leader said the only people to benefit from immigrants from places like poland were employers  landlords  members of the  metropolitan elite . the mep said his party would only admit foreigners who were required because they had specific skills to offer. and he argued asylum cost Â£2bn a year for 14 000 successful applicants.  mr kilroy-silk said that worked out at Â£143 000 per successful asylum seeker. he said veritas wanted to grant an amnesty for all those in britain claiming asylum and who have children and deport everyone else. britain should take its fair share of asylum seekers under the united nations convention on human rights  he argued. and mr kilroy-silk said he wanted to spend an extra Â£500m a year to help provide for refugees abroad., Prediction: politics\n",
      "Text: rem announce new glasgow concert us band rem have announced plans to perform for 10 000 scottish fans in a rescheduled gig.  the band will play in what has been dubbed europe s biggest tent on glasgow green on tuesday  14 june. they were forced to pull out of a concert at the secc in glasgow last month after bassist mike mills contracted flu. fans who bought tickets for the original 22 february show can attend the rescheduled concert. the june gig will act as a warm-up for rem s open air concert at balloch castle country park  on the banks of loch lomond  four days later.  promoters regular music booked glasgow green as the secc was not available on the most suitable date. mark mackie  director of regular music  said:  it is fantastic news and it really shows rem s commitment to their scottish fans that they are coming back to glasgow for what will be a truly unique gig.  the rem gigs will kick-start what promises to be a memorable summer for scottish music lovers.  grammy award winners u2 will play hampden on 21 june while oasis will also perform at the national stadium in glasgow on 29 june. coldplay have announced a concert at bellahouston park in glasgow on 1 july and t in the park will be held at balado  near kinross  from 9-10 july. ticketweb and the secc box office will write to customers who bought tickets for the february gig asking if they want to attend the new show. those who bought tickets in person are being urged to return to the point of purchase. anyone who cannot make the concert will be given a refund. the cut-off date for swapping tickets is 1 april  when those remaining will go on sale to the public., Prediction: entertainment\n",
      "Text: how political squabbles snowball it s become commonplace to argue that blair and brown are like squabbling school kids and that they (and their supporters) need to grow up and stop bickering.  but this analysis in fact gets it wrong. it s not just children who fight - adults do too. and there are solid reasons why even a trivial argument between mature protagonists can be hard to stop once its got going. the key feature of an endless feud is that everyone can agree they d be better off if it ended - but everyone wants to have the last word.  each participant genuinely wants the row to stop  but thinks it worth prolonging the argument just a tiny bit to ensure their view is heard. their successive attempts to end the argument with their last word ensure the argument goes on and on and on. (in the case of mr blair and mr brown  successive books are published  ensuring the issues never die.) now this isn t because the participants are stupid - it s actually each individual behaving entirely rationally  given the incentives facing them. indeed  there s even a piece of economic theory that explains all this. nothing as obscure as  post-neo-classical endogenous growth theory  which the chancellor himself once quoted - but a ubiquitous piece of game theory which all respectable policy wonks are familiar with.  it s often referred to as the  prisoner s dilemma   based on a parable much told in economics degree courses... about a sheriff and two prisoners. the story goes that two prisoners are jointly charged with a heinous crime  and are locked up in separate cells. but the sheriff desperately needs a confession from at least one of them  to provide enough evidence to convict them of the crime. without a confession  the prisoners will get a minimal sentence on some trumped up charge.  clearly the prisoners  best strategy is to keep their mouths shut  and take the short sentence  but the clever sheriff has an idea to induce them to talk. he tells each prisoner separately  that if they confess - and they are the only one to confess - they ll be let off their crime. and he tells them that if they don t confess - and they are the only one not to confess - they ll get life. now  if you are prisoner confronted with this choice  your best bet is to confess. if your partner doesn t confess  you ll get off completely. and if your partner does confess  you d better confess to ensure you don t get life. the result is of course  both prisoners confess  so the sheriff does not have to let either one off. both prisoners  individual logic was to behave that way  even though both would have been better if they had somehow agreed to shut up. don t worry if you don t entirely follow it - you can to look it up on google  where there are 283 000 entries on it.  the prisoners  dilemma and all its ramifications have truly captured economists in the last couple of decades. it is a parable used to describe any situation where there is an obvious sensible choice to be taken collectively  but where the only rational choice individually is to behave selfishly.  a cold war arms race for example - a classic case where both russia and america would be better off with just a few arms  rather than a lot of arms. but as long as each wants just a few more arms than the other  an arms race ensues with the results that the individually logical decision to buy more arms  results in arms levels that are too high. what economics tells us is that once you re in a prisoners  dilemma - unless you are repeating the experience many times over - it s hard to escape the perverse logic of it. it s no good just exhorting people to stop buying arms  or to stop arguing when all their incentives encourage them to carry on. somehow  the incentives have to change.  in the case of the labour party  if you believe the rift between blair and brown camps is as bad as the reports suggest  solomon s wisdom needs to be deployed to solve the problem. every parent knows there are ingenious solutions to arguments  solutions which affect the incentives of the participants. an example  is the famous rule that  one divides  the other chooses  as a way of allocating a piece of cake to be sliced up between greedy children. in the case of an apparently endless argument  if you want it to come to an end  you have to ensure the person who has the last word is one who loses rather than the one who wins the row. the cost of prolonging the row by even one more briefing  or one more book for that matter  has to exceed the benefit of having the last word  and getting your point in. if the rest of the party can enforce that  they ll have the protagonists retreating pretty quickly., Prediction: politics\n",
      "Text: souness delight at euro progress boss graeme souness felt newcastle were never really in danger of going out of the uefa cup against heerenveen.  an early own goal followed by an alan shearer strike earned them a 2-1 win and a place in the uefa cup last 16.  obviously with winning in the first leg it gave us a great advantage   he said after the 4-2 aggregate victory.  we got our goals early and in the minds of some players the job was done but then they got a goal and perhaps made us a bit nervous.  shearer s goal moved him within 12 of jackie milburn s club scoring record of 200 for the magpies. but souness said he did not think beating the record would have any bearing on his decision to retire at the end of the season.  i think if he got it this year he would want to stay next year anyway   he added.   he struck the ball very well - he always has done - and i think it was the power and pace that beat the goalkeeper.  souness also paid tribute to laurent robert  who was at the heart of much of united s attacking play.  in the first half he did really well and did everything you want from a wide player. more of the same in future please   he said., Prediction: sport\n"
     ]
    }
   ],
   "source": [
    "# Calling the function to predict category for each of the queries\n",
    "predictLabels(test_data)"
   ]
  },
  {
   "cell_type": "code",
   "execution_count": null,
   "id": "a4b89afb",
   "metadata": {},
   "outputs": [],
   "source": []
  }
 ],
 "metadata": {
  "kernelspec": {
   "display_name": "Python 3 (ipykernel)",
   "language": "python",
   "name": "python3"
  },
  "language_info": {
   "codemirror_mode": {
    "name": "ipython",
    "version": 3
   },
   "file_extension": ".py",
   "mimetype": "text/x-python",
   "name": "python",
   "nbconvert_exporter": "python",
   "pygments_lexer": "ipython3",
   "version": "3.11.5"
  }
 },
 "nbformat": 4,
 "nbformat_minor": 5
}
